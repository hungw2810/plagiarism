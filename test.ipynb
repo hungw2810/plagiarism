{
 "cells": [
  {
   "cell_type": "code",
   "execution_count": 2,
   "metadata": {},
   "outputs": [],
   "source": [
    "import data_func \n",
    "vocab_test=data_func.generate_vocab(True)"
   ]
  },
  {
   "cell_type": "code",
   "execution_count": 4,
   "metadata": {},
   "outputs": [],
   "source": [
    "words=data_func.generate_vocab(False)"
   ]
  },
  {
   "cell_type": "markdown",
   "metadata": {},
   "source": [
    "Create FUNCTION to calculate TF (have vocab and allword in bigDoc)"
   ]
  },
  {
   "cell_type": "code",
   "execution_count": 22,
   "metadata": {},
   "outputs": [],
   "source": [
    "def cal_TFscore(vocab,wordsINdocument):\n",
    "    tf_score=[]\n",
    "    for word in vocab:\n",
    "        occurrences=wordsINdocument.count(word)\n",
    "        tf=occurrences/float(len(wordsINdocument))\n",
    "        tf_score.append(tf)\n",
    "    return tf_score\n",
    "\n",
    "    \n",
    "tf_score=cal_TFscore(vocab_test,words)"
   ]
  },
  {
   "cell_type": "code",
   "execution_count": 24,
   "metadata": {},
   "outputs": [],
   "source": [
    "import pandas as pd\n",
    "dict={'Words':vocab_test,'TF-Score':tf_score}\n",
    "df=pd.DataFrame(dict)\n",
    "df.to_csv('Vocabulary.csv',index=None)"
   ]
  },
  {
   "cell_type": "markdown",
   "metadata": {},
   "source": [
    "Create FUNCTION to calculate IDF-score"
   ]
  },
  {
   "cell_type": "code",
   "execution_count": null,
   "metadata": {},
   "outputs": [],
   "source": []
  }
 ],
 "metadata": {
  "interpreter": {
   "hash": "5e2ba9950a3a6e78914263b467301b3d30d9c66cc5715c9632891fccc36a67fe"
  },
  "kernelspec": {
   "display_name": "Python 3.7.10 64-bit ('plagiarism': conda)",
   "name": "python3"
  },
  "language_info": {
   "codemirror_mode": {
    "name": "ipython",
    "version": 3
   },
   "file_extension": ".py",
   "mimetype": "text/x-python",
   "name": "python",
   "nbconvert_exporter": "python",
   "pygments_lexer": "ipython3",
   "version": "3.7.10"
  },
  "orig_nbformat": 4
 },
 "nbformat": 4,
 "nbformat_minor": 2
}
